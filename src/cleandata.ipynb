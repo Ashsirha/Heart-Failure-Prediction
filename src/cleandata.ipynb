{
 "cells": [
  {
   "cell_type": "code",
   "execution_count": 1,
   "metadata": {},
   "outputs": [],
   "source": [
    "import pandas as pd\n"
   ]
  },
  {
   "cell_type": "markdown",
   "metadata": {},
   "source": [
    "Loading dataset:"
   ]
  },
  {
   "cell_type": "code",
   "execution_count": 4,
   "metadata": {},
   "outputs": [
    {
     "data": {
      "text/html": [
       "<div>\n",
       "<style scoped>\n",
       "    .dataframe tbody tr th:only-of-type {\n",
       "        vertical-align: middle;\n",
       "    }\n",
       "\n",
       "    .dataframe tbody tr th {\n",
       "        vertical-align: top;\n",
       "    }\n",
       "\n",
       "    .dataframe thead th {\n",
       "        text-align: right;\n",
       "    }\n",
       "</style>\n",
       "<table border=\"1\" class=\"dataframe\">\n",
       "  <thead>\n",
       "    <tr style=\"text-align: right;\">\n",
       "      <th></th>\n",
       "      <th>Age</th>\n",
       "      <th>Sex</th>\n",
       "      <th>ChestPainType</th>\n",
       "      <th>RestingBP</th>\n",
       "      <th>Cholesterol</th>\n",
       "      <th>FastingBS</th>\n",
       "      <th>RestingECG</th>\n",
       "      <th>MaxHR</th>\n",
       "      <th>ExerciseAngina</th>\n",
       "      <th>Oldpeak</th>\n",
       "      <th>ST_Slope</th>\n",
       "      <th>HeartDisease</th>\n",
       "    </tr>\n",
       "  </thead>\n",
       "  <tbody>\n",
       "    <tr>\n",
       "      <th>0</th>\n",
       "      <td>40</td>\n",
       "      <td>M</td>\n",
       "      <td>ATA</td>\n",
       "      <td>140</td>\n",
       "      <td>289</td>\n",
       "      <td>0</td>\n",
       "      <td>Normal</td>\n",
       "      <td>172</td>\n",
       "      <td>N</td>\n",
       "      <td>0.0</td>\n",
       "      <td>Up</td>\n",
       "      <td>0</td>\n",
       "    </tr>\n",
       "    <tr>\n",
       "      <th>1</th>\n",
       "      <td>49</td>\n",
       "      <td>F</td>\n",
       "      <td>NAP</td>\n",
       "      <td>160</td>\n",
       "      <td>180</td>\n",
       "      <td>0</td>\n",
       "      <td>Normal</td>\n",
       "      <td>156</td>\n",
       "      <td>N</td>\n",
       "      <td>1.0</td>\n",
       "      <td>Flat</td>\n",
       "      <td>1</td>\n",
       "    </tr>\n",
       "    <tr>\n",
       "      <th>2</th>\n",
       "      <td>37</td>\n",
       "      <td>M</td>\n",
       "      <td>ATA</td>\n",
       "      <td>130</td>\n",
       "      <td>283</td>\n",
       "      <td>0</td>\n",
       "      <td>ST</td>\n",
       "      <td>98</td>\n",
       "      <td>N</td>\n",
       "      <td>0.0</td>\n",
       "      <td>Up</td>\n",
       "      <td>0</td>\n",
       "    </tr>\n",
       "    <tr>\n",
       "      <th>3</th>\n",
       "      <td>48</td>\n",
       "      <td>F</td>\n",
       "      <td>ASY</td>\n",
       "      <td>138</td>\n",
       "      <td>214</td>\n",
       "      <td>0</td>\n",
       "      <td>Normal</td>\n",
       "      <td>108</td>\n",
       "      <td>Y</td>\n",
       "      <td>1.5</td>\n",
       "      <td>Flat</td>\n",
       "      <td>1</td>\n",
       "    </tr>\n",
       "    <tr>\n",
       "      <th>4</th>\n",
       "      <td>54</td>\n",
       "      <td>M</td>\n",
       "      <td>NAP</td>\n",
       "      <td>150</td>\n",
       "      <td>195</td>\n",
       "      <td>0</td>\n",
       "      <td>Normal</td>\n",
       "      <td>122</td>\n",
       "      <td>N</td>\n",
       "      <td>0.0</td>\n",
       "      <td>Up</td>\n",
       "      <td>0</td>\n",
       "    </tr>\n",
       "  </tbody>\n",
       "</table>\n",
       "</div>"
      ],
      "text/plain": [
       "   Age Sex ChestPainType  RestingBP  Cholesterol  FastingBS RestingECG  MaxHR  \\\n",
       "0   40   M           ATA        140          289          0     Normal    172   \n",
       "1   49   F           NAP        160          180          0     Normal    156   \n",
       "2   37   M           ATA        130          283          0         ST     98   \n",
       "3   48   F           ASY        138          214          0     Normal    108   \n",
       "4   54   M           NAP        150          195          0     Normal    122   \n",
       "\n",
       "  ExerciseAngina  Oldpeak ST_Slope  HeartDisease  \n",
       "0              N      0.0       Up             0  \n",
       "1              N      1.0     Flat             1  \n",
       "2              N      0.0       Up             0  \n",
       "3              Y      1.5     Flat             1  \n",
       "4              N      0.0       Up             0  "
      ]
     },
     "execution_count": 4,
     "metadata": {},
     "output_type": "execute_result"
    }
   ],
   "source": [
    "# loading dataset and showing top 5 results\n",
    "hfp_dataset = pd.read_csv('../data/heart.csv')\n",
    "hfp_dataset.head(5)"
   ]
  },
  {
   "cell_type": "code",
   "execution_count": 8,
   "metadata": {},
   "outputs": [
    {
     "data": {
      "text/plain": [
       "Age               0\n",
       "Sex               0\n",
       "ChestPainType     0\n",
       "RestingBP         0\n",
       "Cholesterol       0\n",
       "FastingBS         0\n",
       "RestingECG        0\n",
       "MaxHR             0\n",
       "ExerciseAngina    0\n",
       "Oldpeak           0\n",
       "ST_Slope          0\n",
       "HeartDisease      0\n",
       "dtype: int64"
      ]
     },
     "execution_count": 8,
     "metadata": {},
     "output_type": "execute_result"
    }
   ],
   "source": [
    "# checking for null vaues\n",
    "hfp_dataset.isnull().sum()\n",
    "\n"
   ]
  },
  {
   "cell_type": "code",
   "execution_count": 10,
   "metadata": {},
   "outputs": [
    {
     "name": "stdout",
     "output_type": "stream",
     "text": [
      "Min values for each column:\n",
      "Age                 28\n",
      "Sex                  F\n",
      "ChestPainType      ASY\n",
      "RestingBP            0\n",
      "Cholesterol          0\n",
      "FastingBS            0\n",
      "RestingECG         LVH\n",
      "MaxHR               60\n",
      "ExerciseAngina       N\n",
      "Oldpeak           -2.6\n",
      "ST_Slope          Down\n",
      "HeartDisease         0\n",
      "dtype: object\n",
      "\n",
      "Max values for each column:\n",
      "Age                77\n",
      "Sex                 M\n",
      "ChestPainType      TA\n",
      "RestingBP         200\n",
      "Cholesterol       603\n",
      "FastingBS           1\n",
      "RestingECG         ST\n",
      "MaxHR             202\n",
      "ExerciseAngina      Y\n",
      "Oldpeak           6.2\n",
      "ST_Slope           Up\n",
      "HeartDisease        1\n",
      "dtype: object\n"
     ]
    }
   ],
   "source": [
    "# Get min values for each column\n",
    "min_values = hfp_dataset.min()\n",
    "\n",
    "# Get max values for each column\n",
    "max_values = hfp_dataset.max()\n",
    "\n",
    "# Display results\n",
    "print(\"Min values for each column:\")\n",
    "print(min_values)\n",
    "\n",
    "print(\"\\nMax values for each column:\")\n",
    "print(max_values)"
   ]
  },
  {
   "cell_type": "markdown",
   "metadata": {},
   "source": [
    "We can observe a 0 values for RestingBP, Cholesterol and FastingBS parameters, which we should account for when doing our analysis. Lets see how many 0 values are present in the dataset."
   ]
  },
  {
   "cell_type": "code",
   "execution_count": 11,
   "metadata": {},
   "outputs": [
    {
     "name": "stdout",
     "output_type": "stream",
     "text": [
      "Count of 0s in each column:\n",
      "Age                 0\n",
      "Sex                 0\n",
      "ChestPainType       0\n",
      "RestingBP           1\n",
      "Cholesterol       172\n",
      "FastingBS         704\n",
      "RestingECG          0\n",
      "MaxHR               0\n",
      "ExerciseAngina      0\n",
      "Oldpeak           368\n",
      "ST_Slope            0\n",
      "HeartDisease      410\n",
      "dtype: int64\n"
     ]
    }
   ],
   "source": [
    "# checking for null vaues\n",
    "zero_counts = (hfp_dataset == 0).sum()\n",
    "\n",
    "# Display the counts\n",
    "print(\"Count of 0s in each column:\")\n",
    "print(zero_counts)"
   ]
  },
  {
   "cell_type": "markdown",
   "metadata": {},
   "source": [
    "As we can see, a lot of values are missing for Cholesterol, and one 0 value RestingBP. Let's print unique values for each column to analyze missing data for string data type parameters:"
   ]
  },
  {
   "cell_type": "code",
   "execution_count": 14,
   "metadata": {},
   "outputs": [
    {
     "name": "stdout",
     "output_type": "stream",
     "text": [
      "Unique values in 'Age': [40 49 37 48 54 39 45 58 42 38 43 60 36 44 53 52 51 56 41 32 65 35 59 50\n",
      " 47 31 46 57 55 63 66 34 33 61 29 62 28 30 74 68 72 64 69 67 73 70 77 75\n",
      " 76 71]\n",
      "Unique values in 'Sex': ['M' 'F']\n",
      "Unique values in 'ChestPainType': ['ATA' 'NAP' 'ASY' 'TA']\n",
      "Unique values in 'RestingBP': [140 160 130 138 150 120 110 136 115 100 124 113 125 145 112 132 118 170\n",
      " 142 190 135 180 108 155 128 106  92 200 122  98 105 133  95  80 137 185\n",
      " 165 126 152 116   0 144 154 134 104 139 131 141 178 146 158 123 102  96\n",
      " 143 172 156 114 127 101 174  94 148 117 192 129 164]\n",
      "Unique values in 'Cholesterol': [289 180 283 214 195 339 237 208 207 284 211 164 204 234 273 196 201 248\n",
      " 267 223 184 288 215 209 260 468 188 518 167 224 172 186 254 306 250 177\n",
      " 227 230 294 264 259 175 318 216 340 233 205 245 194 270 213 365 342 253\n",
      " 277 202 297 225 246 412 265 182 218 268 163 529 100 206 238 139 263 291\n",
      " 229 307 210 329 147  85 269 275 179 392 466 129 241 255 276 282 338 160\n",
      " 156 272 240 393 161 228 292 388 166 247 331 341 243 279 198 249 168 603\n",
      " 159 190 185 290 212 231 222 235 320 187 266 287 404 312 251 328 285 280\n",
      " 192 193 308 219 257 132 226 217 303 298 256 117 295 173 315 281 309 200\n",
      " 336 355 326 171 491 271 274 394 221 126 305 220 242 347 344 358 169 181\n",
      "   0 236 203 153 316 311 252 458 384 258 349 142 197 113 261 310 232 110\n",
      " 123 170 369 152 244 165 337 300 333 385 322 564 239 293 407 149 199 417\n",
      " 178 319 354 330 302 313 141 327 304 286 360 262 325 299 409 174 183 321\n",
      " 353 335 278 157 176 131]\n",
      "Unique values in 'FastingBS': [0 1]\n",
      "Unique values in 'RestingECG': ['Normal' 'ST' 'LVH']\n",
      "Unique values in 'MaxHR': [172 156  98 108 122 170 142 130 120  99 145 140 137 150 166 165 125 160\n",
      " 164 138 178 112 118 127 114 154 155  87 148 100 168 184 121 153 134  96\n",
      " 174 175 144  82 135 115 128 116  94 110  92 180 152 124 106 185 139 190\n",
      " 146 158 132 176 119 188 162 105  90 136 167 129 102 143 103  91 126  93\n",
      " 131 149 123 182 141  77 109 133 179 113 104  95  72  97 117  86  63 157\n",
      "  83  60  70 163  67  78  84 111  80 107 161  69  88  73 159 151 181 186\n",
      " 177 173 169 171 147  71 192 195 194 187 202]\n",
      "Unique values in 'ExerciseAngina': ['N' 'Y']\n",
      "Unique values in 'Oldpeak': [ 0.   1.   1.5  2.   3.   4.   0.5  2.5  5.   0.8  0.7  1.4  2.1  0.4\n",
      "  0.2  1.7  2.2  0.1  1.6  1.3  0.3  1.8  2.6 -0.9  2.8 -2.6 -1.5 -0.1\n",
      "  0.9  1.1  2.4 -1.  -1.1 -0.7 -0.8  3.7  1.2 -0.5 -2.   1.9  3.5  0.6\n",
      "  3.1  2.3  3.4  3.6  4.2  3.2  5.6  3.8  2.9  6.2  4.4]\n",
      "Unique values in 'ST_Slope': ['Up' 'Flat' 'Down']\n",
      "Unique values in 'HeartDisease': [0 1]\n"
     ]
    }
   ],
   "source": [
    "# Get unique values for all columns\n",
    "unique_values_per_column = {col: hfp_dataset[col].unique() for col in hfp_dataset.columns}\n",
    "\n",
    "# Display unique values for each column\n",
    "for col, unique_vals in unique_values_per_column.items():\n",
    "    print(f\"Unique values in '{col}': {unique_vals}\")\n"
   ]
  },
  {
   "cell_type": "markdown",
   "metadata": {},
   "source": [
    "\n",
    "The 'ChestPainType' values ['ATA', 'NAP', 'ASY', 'TA'] represent different types of chest pain experienced by individuals, often used in medical datasets or heart disease prediction models. Here’s what each abbreviation typically stands for:\n",
    "\n",
    "ATA (Atypical Angina):\n",
    "Atypical angina refers to chest pain that does not fit the typical description of angina. It may present with symptoms such as discomfort, pressure, or indigestion, but it is not always related to exertion or relieved by rest. The pain may also be less predictable.\n",
    "NAP (Non-Anginal Pain):\n",
    "Non-anginal pain refers to chest pain that is not related to the heart. This type of pain can have other causes, such as gastrointestinal issues, musculoskeletal problems, or anxiety. It is usually not related to physical exertion and does not respond to nitroglycerin (which is commonly used to treat angina).\n",
    "ASY (Asymptomatic):\n",
    "Asymptomatic means that the individual does not experience any chest pain or symptoms, despite possibly having underlying heart issues, such as silent ischemia (where the heart muscle is not getting enough oxygen but without causing noticeable symptoms).\n",
    "TA (Typical Angina):\n",
    "Typical angina is the classic type of chest pain related to heart disease. It is usually caused by reduced blood flow to the heart due to coronary artery disease. The pain typically occurs with exertion or stress and is relieved by rest or medication (such as nitroglycerin). It is often described as a squeezing or pressure-like sensation in the chest.\n",
    "Summary:\n",
    "ATA: Atypical Angina (unpredictable or not classic angina symptoms)\n",
    "NAP: Non-Anginal Pain (not related to the heart)\n",
    "ASY: Asymptomatic (no chest pain)\n",
    "TA: Typical Angina (classic chest pain related to heart disease)"
   ]
  },
  {
   "cell_type": "markdown",
   "metadata": {},
   "source": [
    "The 'RestingECG' values ['Normal', 'ST', 'LVH'] refer to different types of results that can be seen on a Resting Electrocardiogram (ECG), a test that measures the electrical activity of the heart. Here's what each abbreviation typically means:\n",
    "\n",
    "Normal:\n",
    "This indicates that the ECG shows no abnormalities in the heart’s electrical activity. The heart's rhythm, rate, and electrical signals are within normal ranges, and there are no signs of heart disease or other issues.\n",
    "ST (ST-T Wave Abnormalities):\n",
    "ST refers to abnormalities in the ST segment and/or T wave of the ECG. These changes can suggest various heart problems, such as:\n",
    "Myocardial ischemia: Reduced blood flow to the heart, possibly due to coronary artery disease (CAD).\n",
    "ST elevation or depression: Can indicate issues such as a heart attack (if elevated) or ischemia (if depressed). ST-T wave abnormalities are often assessed during stress tests or episodes of chest pain.\n",
    "LVH (Left Ventricular Hypertrophy):\n",
    "LVH means there is thickening of the muscle wall of the heart's left ventricle (the main pumping chamber). This condition often results from high blood pressure or other conditions that cause the heart to work harder. An enlarged left ventricle can make the heart less efficient and is a risk factor for heart failure or arrhythmias.\n",
    "Summary:\n",
    "Normal: No abnormalities in the ECG; heart function appears normal.\n",
    "ST: ST-T wave abnormalities, often indicating myocardial ischemia or other electrical disturbances in the heart.\n",
    "LVH: Left Ventricular Hypertrophy, indicating an enlarged or thickened left ventricle, which may suggest high blood pressure or heart strain.\n",
    "These are common classifications used in medical settings to assess heart function and potential heart-related conditions."
   ]
  },
  {
   "cell_type": "markdown",
   "metadata": {},
   "source": [
    "The unique values in 'ST_Slope' ['Up', 'Flat', 'Down'] refer to the slope of the ST segment on an electrocardiogram (ECG), especially during a stress test. The slope of the ST segment provides important information about heart function, particularly regarding blood flow to the heart and possible ischemia (reduced blood flow). Here’s what each term means:\n",
    "\n",
    "Up (Up-sloping):\n",
    "An upward-sloping ST segment is generally considered benign or normal. It can occur during exercise or stress testing and often doesn't indicate significant heart problems. However, in some cases, it can be observed in less severe cases of ischemia.\n",
    "Flat (Horizontal):\n",
    "A flat or horizontal ST segment is more concerning. It often suggests myocardial ischemia, which occurs when the heart muscle isn't getting enough oxygen, typically due to blockages in the coronary arteries. This condition requires further investigation, as it can indicate coronary artery disease (CAD).\n",
    "Down (Down-sloping):\n",
    "A down-sloping ST segment is usually the most serious indicator of ischemia or heart disease. It strongly suggests that there is significant reduced blood flow to the heart, often due to severe blockages in the coronary arteries. It is associated with a higher risk of adverse cardiac events and requires immediate medical attention.\n",
    "Summary:\n",
    "Up (Up-sloping): Often normal, but can indicate mild issues.\n",
    "Flat (Horizontal): Suggests potential myocardial ischemia and moderate concern.\n",
    "Down (Down-sloping): Typically a sign of significant ischemia and a serious concern for heart disease.\n",
    "The ST slope is an important diagnostic marker in stress tests, helping to evaluate the likelihood of ischemia and guiding further treatment or intervention."
   ]
  }
 ],
 "metadata": {
  "kernelspec": {
   "display_name": "dsi_participant",
   "language": "python",
   "name": "python3"
  },
  "language_info": {
   "codemirror_mode": {
    "name": "ipython",
    "version": 3
   },
   "file_extension": ".py",
   "mimetype": "text/x-python",
   "name": "python",
   "nbconvert_exporter": "python",
   "pygments_lexer": "ipython3",
   "version": "3.9.18"
  }
 },
 "nbformat": 4,
 "nbformat_minor": 2
}
